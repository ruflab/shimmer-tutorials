{
 "cells": [
  {
   "cell_type": "markdown",
   "id": "396f5519-ed15-4b67-87dd-0d9d57e6f7a6",
   "metadata": {},
   "source": [
    "# Vision to Text Translations using a Global Workspace\n",
    "Benjamin Devillers\n",
    "\n",
    "[![Open in Colab](https://colab.research.google.com/assets/colab-badge.svg)](https://colab.research.google.com/github/ruflab/shimmer-tutorials/blob/main/simple-shapes-dataset-inference.ipynb)\n",
    "\n",
    "\n",
    "In this notebook, we will see how to use `shimmer` and our pretrained models. We will use our pretrained model to translate visual images of shapes from the [simple-shapes-datset](https://github.com/ruflab/simple-shapes-dataset) to their text descriptions."
   ]
  },
  {
   "cell_type": "markdown",
   "id": "8450ae66-426c-4543-b723-de6dbc904591",
   "metadata": {},
   "source": [
    "For this tutorial, we will need to install the [shimmer-ssd](https://github.com/ruflab/shimmer-ssd) package."
   ]
  },
  {
   "cell_type": "code",
   "execution_count": null,
   "id": "20c0875a-689c-43ab-9cfc-381bde9ed73a",
   "metadata": {},
   "outputs": [],
   "source": [
    "!pip install \"git+https://github.com/ruflab/shimmer-ssd.git\""
   ]
  },
  {
   "cell_type": "markdown",
   "id": "46ab231b-f1bc-4477-8f4a-c490a8c773f5",
   "metadata": {},
   "source": [
    "This package depends on [simple-shapes-dataset](https://github.com/ruflab/simple-shapes-dataset) and provides all of its commands. You can then use all of its commands.\n",
    "\n",
    "For instance, we can download the dataset directly with:"
   ]
  },
  {
   "cell_type": "code",
   "execution_count": null,
   "id": "3fdb5133-2fb0-4a2d-9790-753bbf8e144e",
   "metadata": {},
   "outputs": [],
   "source": [
    "!shapesd download"
   ]
  },
  {
   "cell_type": "markdown",
   "id": "05d1a776-cfb7-4da2-b49d-74bec9d264fd",
   "metadata": {},
   "source": [
    "Note that `shapesd download` automatically migrates the dataset so that it is correctly formatted. If you downloaded the dataset manually, use `shapesd migrate -p PATH_TO_DATASET` to migrate manually."
   ]
  },
  {
   "cell_type": "markdown",
   "id": "9e48fcb6-43e4-427d-a63d-e8c4000a20a7",
   "metadata": {},
   "source": [
    "Our evaluation will also require the simple-shapes dataset tokenizer data, so let's download this from the `shimmer-ssd` repository:"
   ]
  },
  {
   "cell_type": "code",
   "execution_count": null,
   "id": "3a90f345-7b3d-4d85-8ea4-59682ad935d6",
   "metadata": {
    "editable": true,
    "slideshow": {
     "slide_type": ""
    },
    "tags": []
   },
   "outputs": [],
   "source": [
    "!ssd download tokenizer"
   ]
  },
  {
   "cell_type": "markdown",
   "id": "1c8ac2ba-d66a-4f62-90e7-971c71aadb2a",
   "metadata": {},
   "source": [
    "Let's now import what we will need in this notebook."
   ]
  },
  {
   "cell_type": "code",
   "execution_count": 1,
   "id": "75a2017e-7de7-4568-87dd-23bf4f93a0cc",
   "metadata": {
    "editable": true,
    "slideshow": {
     "slide_type": ""
    },
    "tags": []
   },
   "outputs": [],
   "source": [
    "from collections.abc import Mapping\n",
    "from pathlib import Path\n",
    "from typing import cast\n",
    "\n",
    "import matplotlib\n",
    "import matplotlib.pyplot as plt\n",
    "import torch\n",
    "from lightning.pytorch import seed_everything\n",
    "from shimmer.modules.global_workspace import GlobalWorkspaceFusion\n",
    "from shimmer.modules.selection import SelectionBase\n",
    "from shimmer_ssd import DEBUG_MODE, PROJECT_DIR\n",
    "from shimmer_ssd.config import DomainModuleVariant, LoadedDomainConfig, load_config\n",
    "from shimmer_ssd.dataset.pre_process import TokenizeCaptions\n",
    "from shimmer_ssd.logging import batch_to_device\n",
    "from shimmer_ssd.modules.domains import load_pretrained_domains\n",
    "from shimmer_ssd.modules.domains.visual import VisualLatentDomainModule\n",
    "from tokenizers.implementations.byte_level_bpe import ByteLevelBPETokenizer\n",
    "from torchvision.utils import make_grid\n",
    "\n",
    "from simple_shapes_dataset import SimpleShapesDataModule, get_default_domains\n",
    "\n",
    "%matplotlib inline"
   ]
  },
  {
   "cell_type": "markdown",
   "id": "dff5b171-42c0-426f-96f0-2d258ef33dca",
   "metadata": {},
   "source": [
    "## Config\n",
    "\n",
    "Let's first generate the config folder for the rest of the scripts.\n",
    "This will create a `config` folder with different yaml files used by the different scripts and in the notebook."
   ]
  },
  {
   "cell_type": "code",
   "execution_count": 2,
   "id": "6de5cbe7-d857-4baa-886a-74484200eedc",
   "metadata": {
    "scrolled": true
   },
   "outputs": [
    {
     "name": "stdout",
     "output_type": "stream",
     "text": [
      "Config folder already exists. Skipping.\n"
     ]
    }
   ],
   "source": [
    "!ssd config create"
   ]
  },
  {
   "cell_type": "markdown",
   "id": "fa2daeff-21a4-4ed7-b02b-bf15bbd282d4",
   "metadata": {},
   "source": [
    "This will create a `config` folder. This contains many file, but in this tutorial, only `main.yaml` will interest us.\n",
    "\n",
    "You can start by taking a look at the default values which should be mostly set correctly for this tutorial. But you can try and make some changes to see the outcome.\n",
    "\n",
    "<div class=\"alert alert-info\">\n",
    "Anytime you make a change to the config, don't forget to reload it with the following cell!\n",
    "</div>"
   ]
  },
  {
   "cell_type": "code",
   "execution_count": 3,
   "id": "6fb97e2b-3ed9-45c5-a10c-c475c80f9502",
   "metadata": {},
   "outputs": [],
   "source": [
    "# We don't use cli in the notebook, but consider using it in normal scripts.\n",
    "config = load_config(\"./config\", use_cli=False)"
   ]
  },
  {
   "cell_type": "markdown",
   "id": "79ab9ee9-84f8-4de9-b7d6-fdba50744cc8",
   "metadata": {},
   "source": [
    "## Make the dataloader\n",
    "\n",
    "Thanks to `shapesd download`, we should now have our dataset in the folder \"simple_shapes_dataset\". This should be the path set in `main.yaml`:\n",
    "```yaml\n",
    "dataset:\n",
    "    path: \"./simple_shapes_dataset\"\n",
    "```\n"
   ]
  },
  {
   "cell_type": "markdown",
   "id": "0d37d4d8-d2c5-481e-a947-5f1dfc253dfc",
   "metadata": {},
   "source": [
    "We now need to define which modality we will load, and in what proportion. Open `config/main.yaml` and update `domain_proportions` with selected values:\n",
    "\n",
    "```yaml\n",
    "domain_proportions: \n",
    "    -   domains: [\"v\"]  # unimodal visual passes use 100% of the available data \n",
    "        proportion: 1.0\n",
    "    -   domains: [\"t\"]  # unimodal text passes use 100% of the available data\n",
    "        proportion: 1.0\n",
    "    -   domains: [\"v\", \"t\"]  # paired passes uses 100% of the available data\n",
    "        proportion: 1.0\n",
    "```\n"
   ]
  },
  {
   "cell_type": "markdown",
   "id": "1a9d083d-847d-41bb-84c6-1623912c8239",
   "metadata": {},
   "source": [
    "To use this proportion, we need to create a split in the dataset. A dataset split depends on a seed and the proportion of each group of domain.\n",
    "We only need to generate this split once.\n",
    "\n",
    "This can be done with the `shapesd alignment add` command. It needs the following arguments:\n",
    "- `--dataset_path \"DATASET_PATH\"`: the location where the dataset is stored\n",
    "- `--seed SEED` the split seed\n",
    "- `--domain_alignment DOMAIN_1,DOMAIN_2,...DOMAIN_N PROP` the proportion for each domain group. This corresponds to what has been defined in `domain_proportion`\n",
    "\n",
    "When running this command, it will create a file containing the indices of the items available in the train set (update so that it matches what we set in the config file).\n"
   ]
  },
  {
   "cell_type": "code",
   "execution_count": 4,
   "id": "ea1d63eb-c931-484f-81da-58edfc090122",
   "metadata": {},
   "outputs": [],
   "source": [
    "!shapesd alignment add --dataset_path \"simple_shapes_dataset\" --seed 0 --domain_alignment t 1.0 --domain_alignment v 1.0 --domain_alignment t,v 1.0"
   ]
  },
  {
   "cell_type": "markdown",
   "id": "75208a58-9ef8-4272-8e52-e15c0c7b5d84",
   "metadata": {},
   "source": [
    "We also need to get the class used to load the different domains. For that, we can use `get_default_domains` and give as a parameter the list of domain loaders that we need. \n",
    "\n",
    "Here are the main available loaders, listed in the `DomainType` enum:\n",
    "- `DomainType.v`: visual model using a pretrained VAE.\n",
    "- `DomainType.v_latents`: same as `v`, but starting from the VAE latent representation. This is used for faster inference by short-circuiting the VAE.\n",
    "- `DomainType.attr`: attribute (proto-language) module using a VAE.\n",
    "- `DomainType.attr_legacy`: legacy version (from Devillers et al., 2024) of the attibute module using the attribute as the latent representation directly (no VAE).\n",
    "- `DomainType.t`: natural language module.\n",
    "\n",
    "Here, we will focus on vision to text, and we will select `v_latents` and `t`."
   ]
  },
  {
   "cell_type": "code",
   "execution_count": 5,
   "id": "82998628-f97e-4c17-9d9f-9bd7aa405ec4",
   "metadata": {},
   "outputs": [
    {
     "name": "stdout",
     "output_type": "stream",
     "text": [
      "{DomainDesc(base='v', kind='v_latents'): <class 'simple_shapes_dataset.domain.SimpleShapesPretrainedVisual'>, DomainDesc(base='t', kind='t'): <class 'simple_shapes_dataset.domain.SimpleShapesText'>}\n"
     ]
    }
   ],
   "source": [
    "# Then we get the data domain that will load the data for our two different domain\n",
    "# formats:\n",
    "# - `t` will load the text (with bert representations of the sentences\n",
    "# - `v_latents` will load pre-saved latent representations of the visual VAE.\n",
    "domain_classes = get_default_domains([\"v_latents\", \"t\"])\n",
    "print(domain_classes)"
   ]
  },
  {
   "cell_type": "markdown",
   "id": "b9bef0c1-2e95-4e56-9c0d-ca7b75b426d3",
   "metadata": {},
   "source": [
    "`v_latents` will allow us to use the pretrained model provided in the [`shimmer-ssd`](https://github.com/ruflab/shimmer-ssd) repo.\n",
    "However, it requires pre-saved latent representations of the visual VAE.\n",
    "\n",
    "We can first download the checkpoinst, then extract the visual latents with:"
   ]
  },
  {
   "cell_type": "code",
   "execution_count": 6,
   "id": "bb0ca2ea-217d-4962-9ccd-639a969e551e",
   "metadata": {},
   "outputs": [
    {
     "name": "stdout",
     "output_type": "stream",
     "text": [
      "Downloading in checkpoints.\n",
      "  0%|                                                | 0.00/288M [00:00<?, ?B/s]\n",
      "  0%|                                        | 246k/288M [00:00<02:20, 2.05MB/s]\n",
      "  2%|▌                                      | 4.42M/288M [00:00<00:11, 23.6MB/s]\n",
      "  5%|██                                     | 15.2M/288M [00:00<00:04, 60.5MB/s]\n",
      "  8%|███                                    | 22.5M/288M [00:00<00:04, 65.2MB/s]\n",
      "2745it [00:00, 7773.54it/s]\u001b[A\n",
      " 14%|█████▎                                 | 39.4M/288M [00:00<00:03, 74.0MB/s]\n",
      "4813it [00:00, 9075.22it/s]\u001b[A\n",
      " 19%|███████▌                               | 56.0M/288M [00:00<00:03, 76.6MB/s]\n",
      " 23%|█████████▏                             | 67.5M/288M [00:00<00:02, 87.8MB/s]\n",
      " 27%|██████████▌                            | 78.3M/288M [00:01<00:02, 93.9MB/s]\n",
      " 31%|████████████                           | 89.4M/288M [00:01<00:02, 99.0MB/s]\n",
      " 35%|██████████████▎                          | 101M/288M [00:01<00:01, 103MB/s]\n",
      " 39%|███████████████▊                         | 111M/288M [00:01<00:01, 101MB/s]\n",
      " 42%|█████████████████▎                       | 121M/288M [00:01<00:01, 100MB/s]\n",
      " 46%|██████████████████▉                      | 133M/288M [00:01<00:01, 104MB/s]\n",
      " 50%|████████████████████▌                    | 144M/288M [00:01<00:01, 107MB/s]\n",
      " 54%|██████████████████████                   | 155M/288M [00:01<00:01, 107MB/s]\n",
      " 58%|███████████████████████▌                 | 165M/288M [00:01<00:01, 105MB/s]\n",
      " 61%|████████████████████████▍               | 176M/288M [00:02<00:01, 90.6MB/s]\n",
      " 65%|█████████████████████████▉              | 186M/288M [00:02<00:01, 93.7MB/s]\n",
      " 68%|███████████████████████████▏            | 196M/288M [00:02<00:00, 93.1MB/s]\n",
      " 71%|████████████████████████████▌           | 205M/288M [00:02<00:00, 89.2MB/s]\n",
      " 75%|█████████████████████████████▉          | 216M/288M [00:02<00:00, 92.7MB/s]\n",
      " 79%|███████████████████████████████▌        | 227M/288M [00:02<00:00, 97.5MB/s]\n",
      " 82%|████████████████████████████████▉       | 237M/288M [00:02<00:00, 99.5MB/s]\n",
      "28934it [00:02, 12037.80it/s]\u001b[A\n",
      " 86%|██████████████████████████████████▎     | 247M/288M [00:02<00:00, 98.2MB/s]\n",
      " 89%|███████████████████████████████████▋    | 257M/288M [00:02<00:00, 95.0MB/s]\n",
      " 96%|██████████████████████████████████████▍ | 276M/288M [00:03<00:00, 62.0MB/s]\n",
      "100%|███████████████████████████████████████▊| 286M/288M [00:03<00:00, 70.8MB/s]\n",
      "35108it [00:03, 10426.02it/s][A\n",
      "100%|████████████████████████████████████████| 288M/288M [00:03<00:00, 85.4MB/s]\n",
      "Extracting archive...\n"
     ]
    }
   ],
   "source": [
    "!ssd download checkpoints\n",
    "!mv checkpoints/checkpoints/* checkpoints/\n",
    "!rm -rf checkpoints/checkpoints"
   ]
  },
  {
   "cell_type": "code",
   "execution_count": 7,
   "id": "e66f3b72-b506-46a7-8512-192dea756478",
   "metadata": {},
   "outputs": [
    {
     "name": "stdout",
     "output_type": "stream",
     "text": [
      "Saving train.\n",
      "100%|█████████████████████████████████████████| 244/244 [00:27<00:00,  8.91it/s]\n",
      "Saving in simple_shapes_dataset/saved_latents/train/domain_v.npy.\n",
      "Saving val.\n",
      "100%|███████████████████████████████████████████| 25/25 [00:02<00:00,  9.37it/s]\n",
      "Saving in simple_shapes_dataset/saved_latents/val/domain_v.npy.\n",
      "Saving test.\n",
      "100%|███████████████████████████████████████████| 25/25 [00:02<00:00,  8.99it/s]\n",
      "Saving in simple_shapes_dataset/saved_latents/test/domain_v.npy.\n"
     ]
    }
   ],
   "source": [
    "!ssd extract v \"checkpoints/domain_v.ckpt\" -p \"simple_shapes_dataset\""
   ]
  },
  {
   "cell_type": "markdown",
   "id": "a8ccd794-79fe-4708-9eb5-5d07f7b31482",
   "metadata": {},
   "source": [
    "We now need to set the location of the presaved latent vectors in the config file. You can see that `domain_data_args` is defined as follows:\n",
    "\n",
    "```yaml\n",
    "domain_data_args:\n",
    "    v_latents:\n",
    "        presaved_path: domain_v.npy  # same name as `domain_v.ckpt`\n",
    "```"
   ]
  },
  {
   "cell_type": "markdown",
   "id": "b115e4aa-a683-48a9-939b-703a359757b9",
   "metadata": {},
   "source": [
    "And now let's define text transforms to change the text input as a token sequence.\n",
    "\n",
    "You can already change the path to the tokenizer vocab and merges file in:\n",
    "```yaml\n",
    "domain_modules:\n",
    "    text:\n",
    "        vocab_path: ./tokenizer/vocab.json\n",
    "        merges_path: ./tokenizer/merges.txt\n",
    "```\n"
   ]
  },
  {
   "cell_type": "code",
   "execution_count": 8,
   "id": "ce9f3a2e-a462-4eb0-861e-bbbc047798d3",
   "metadata": {},
   "outputs": [],
   "source": [
    "seq_length = 64  # we will use a sequence length of 64\n",
    "\n",
    "# And define a transform for the text domain to tokenize the text string\n",
    "additional_transforms = {\n",
    "    \"t\": [TokenizeCaptions(config.domain_modules.text.vocab_path, config.domain_modules.text.merges_path, seq_length)]\n",
    "}\n",
    "tokenizer = ByteLevelBPETokenizer(config.domain_modules.text.vocab_path, config.domain_modules.text.merges_path)"
   ]
  },
  {
   "cell_type": "markdown",
   "id": "06905ab3-b465-41fa-b532-fe51f7c12570",
   "metadata": {},
   "source": [
    "Finally, let's define some arguments:"
   ]
  },
  {
   "cell_type": "code",
   "execution_count": 9,
   "id": "9c4db0d3-b30c-40e2-9a88-06afb31a1658",
   "metadata": {},
   "outputs": [
    {
     "name": "stderr",
     "output_type": "stream",
     "text": [
      "Seed set to 0\n"
     ]
    }
   ],
   "source": [
    "seed_everything(config.seed, workers=True)\n",
    "\n",
    "# initilize the lightning data module\n",
    "data_module = SimpleShapesDataModule(\n",
    "    config.dataset.path,\n",
    "    domain_classes,\n",
    "    config.domain_proportions,\n",
    "    config.training.batch_size,\n",
    "    seed=config.seed,\n",
    "    domain_args=config.domain_data_args,\n",
    "    additional_transforms=additional_transforms,\n",
    ")"
   ]
  },
  {
   "cell_type": "markdown",
   "id": "f8e7ecaa-cb07-4b7b-b0c1-7c3df93df0ac",
   "metadata": {},
   "source": [
    "## Load pretrained Model"
   ]
  },
  {
   "cell_type": "markdown",
   "id": "eade4a9d-830b-4b5b-84ae-306e93fe38ac",
   "metadata": {},
   "source": [
    "The checkpoints are stored in \"./checkpoints\" after `ssd download checkpoints`."
   ]
  },
  {
   "cell_type": "markdown",
   "id": "57aa948b-081a-4c74-99b2-cebf525a0399",
   "metadata": {},
   "source": [
    "Let's now define which pretrained domain module we will use for the model. You can update the `domains` section of the config:\n",
    "```yaml\n",
    "domains:\n",
    "    - checkpoint_path: \"#{default_root_dir}/domain_v.ckpt\"\n",
    "      domain_type: v_latents\n",
    "    - checkpoint_path: \"#{default_root_dir}/domain_t.ckpt\"\n",
    "      domain_type: t\n",
    "```\n",
    "\n",
    "Note here that we define the path relative to `#{default_root_dir}` which is replaced by the value set in `default_root_dir` (\"./checkpoints\").\n",
    "\n",
    "We also need to update the dimensions of the encoders and decoders that will translate the unimodal latent representations through the global workspace.\n",
    "\n",
    "```yaml\n",
    "global_workspace:\n",
    "    latent_dim: 16  # This changed compared to the default config!\n",
    "\n",
    "    encoders:\n",
    "        hidden_dim: 32\n",
    "        n_layers: 32\n",
    "\n",
    "    decoders:\n",
    "        hidden_dim: 32\n",
    "        n_layers: 3\n",
    "```"
   ]
  },
  {
   "cell_type": "code",
   "execution_count": 10,
   "id": "727ebb42-7a6a-4ee1-a72a-37c1b5b6a153",
   "metadata": {},
   "outputs": [],
   "source": [
    "# After some config changes, don't forget to reload the changes!\n",
    "config = load_config(\"./config\", use_cli=False)"
   ]
  },
  {
   "cell_type": "markdown",
   "id": "740bf5f9-b90d-4ebb-bfa1-dc23a71ee0ef",
   "metadata": {},
   "source": [
    "To make sure this tutorial runs without manually changing the config, the following line will force the correct value to be set.\n",
    "You don't need to run it if you made the correct change in the config."
   ]
  },
  {
   "cell_type": "code",
   "execution_count": 11,
   "id": "13e83063-5613-4f5c-a232-25568d9d2fba",
   "metadata": {},
   "outputs": [],
   "source": [
    "config.global_workspace.latent_dim = 16  # latent dim of the pretrained gw"
   ]
  },
  {
   "cell_type": "code",
   "execution_count": 12,
   "id": "1677290a-a24f-4e83-8fc2-b8c297c709ba",
   "metadata": {},
   "outputs": [],
   "source": [
    "# we load the pretrained domain modules and define the associated GW encoders and\n",
    "# decoders\n",
    "domain_modules, gw_encoders, gw_decoders = load_pretrained_domains(\n",
    "    config.domains,\n",
    "    config.global_workspace.latent_dim,\n",
    "    config.global_workspace.encoders.hidden_dim,\n",
    "    config.global_workspace.encoders.n_layers,\n",
    "    config.global_workspace.decoders.hidden_dim,\n",
    "    config.global_workspace.decoders.n_layers,\n",
    ")"
   ]
  },
  {
   "cell_type": "markdown",
   "id": "f71dff64-c032-4a1e-ad46-264998532659",
   "metadata": {},
   "source": [
    "Let's now load a pre-trained global workspace trained to align vision and texts."
   ]
  },
  {
   "cell_type": "code",
   "execution_count": 13,
   "id": "b62469f5-be42-4b6c-87d4-a27d6417c314",
   "metadata": {
    "scrolled": true
   },
   "outputs": [
    {
     "data": {
      "text/plain": [
       "GlobalWorkspaceFusion(\n",
       "  (gw_mod): GWModule(\n",
       "    (domain_mods): ModuleDict(\n",
       "      (v_latents): VisualLatentDomainModule(\n",
       "        (visual_module): VisualDomainModule(\n",
       "          (vae): VAE(\n",
       "            (encoder): RAEEncoder(\n",
       "              (layers): Sequential(\n",
       "                (0): Conv2d(3, 64, kernel_size=(4, 4), stride=(2, 2), padding=(1, 1), bias=False)\n",
       "                (1): BatchNorm2d(64, eps=1e-05, momentum=0.1, affine=True, track_running_stats=True)\n",
       "                (2): ReLU()\n",
       "                (3): Conv2d(64, 128, kernel_size=(4, 4), stride=(2, 2), padding=(1, 1), bias=False)\n",
       "                (4): BatchNorm2d(128, eps=1e-05, momentum=0.1, affine=True, track_running_stats=True)\n",
       "                (5): ReLU()\n",
       "                (6): Conv2d(128, 256, kernel_size=(4, 4), stride=(2, 2), padding=(1, 1), bias=False)\n",
       "                (7): BatchNorm2d(256, eps=1e-05, momentum=0.1, affine=True, track_running_stats=True)\n",
       "                (8): ReLU()\n",
       "                (9): Conv2d(256, 512, kernel_size=(4, 4), stride=(2, 2), padding=(1, 1), bias=False)\n",
       "                (10): BatchNorm2d(512, eps=1e-05, momentum=0.1, affine=True, track_running_stats=True)\n",
       "                (11): ReLU()\n",
       "              )\n",
       "              (q_mean): Linear(in_features=2048, out_features=12, bias=True)\n",
       "              (q_logvar): Linear(in_features=2048, out_features=12, bias=True)\n",
       "            )\n",
       "            (decoder): RAEDecoder(\n",
       "              (layers): Sequential(\n",
       "                (0): ConvTranspose2d(12, 512, kernel_size=(8, 8), stride=(1, 1), bias=False)\n",
       "                (1): BatchNorm2d(512, eps=1e-05, momentum=0.1, affine=True, track_running_stats=True)\n",
       "                (2): ReLU()\n",
       "                (3): ConvTranspose2d(512, 256, kernel_size=(4, 4), stride=(2, 2), padding=(1, 1), bias=False)\n",
       "                (4): BatchNorm2d(256, eps=1e-05, momentum=0.1, affine=True, track_running_stats=True)\n",
       "                (5): ReLU()\n",
       "                (6): ConvTranspose2d(256, 128, kernel_size=(4, 4), stride=(2, 2), padding=(1, 1), bias=False)\n",
       "                (7): BatchNorm2d(128, eps=1e-05, momentum=0.1, affine=True, track_running_stats=True)\n",
       "                (8): ReLU()\n",
       "              )\n",
       "              (out_layer): Sequential(\n",
       "                (0): ZeroPad2d((0, 1, 0, 1))\n",
       "                (1): Conv2d(128, 3, kernel_size=(4, 4), stride=(1, 1), padding=(1, 1))\n",
       "                (2): Sigmoid()\n",
       "              )\n",
       "            )\n",
       "          )\n",
       "        )\n",
       "      )\n",
       "      (t): GRUTextDomainModule(\n",
       "        (projector): Sequential(\n",
       "          (0): Linear(in_features=768, out_features=256, bias=True)\n",
       "          (1): ReLU()\n",
       "          (2): Linear(in_features=256, out_features=64, bias=True)\n",
       "          (3): Tanh()\n",
       "        )\n",
       "        (embeddings): Embedding(822, 64)\n",
       "        (decoder): GRU(64, 256, num_layers=2, batch_first=True)\n",
       "        (text_head): Linear(in_features=256, out_features=822, bias=True)\n",
       "      )\n",
       "    )\n",
       "    (gw_encoders): ModuleDict(\n",
       "      (v_latents): GWEncoder(\n",
       "        (0): Linear(in_features=12, out_features=32, bias=True)\n",
       "        (1): ReLU()\n",
       "        (2): Linear(in_features=32, out_features=32, bias=True)\n",
       "        (3): ReLU()\n",
       "        (4): Linear(in_features=32, out_features=32, bias=True)\n",
       "        (5): ReLU()\n",
       "        (6): Linear(in_features=32, out_features=32, bias=True)\n",
       "        (7): ReLU()\n",
       "        (8): Linear(in_features=32, out_features=16, bias=True)\n",
       "      )\n",
       "      (t): GWEncoder(\n",
       "        (0): Linear(in_features=64, out_features=32, bias=True)\n",
       "        (1): ReLU()\n",
       "        (2): Linear(in_features=32, out_features=32, bias=True)\n",
       "        (3): ReLU()\n",
       "        (4): Linear(in_features=32, out_features=32, bias=True)\n",
       "        (5): ReLU()\n",
       "        (6): Linear(in_features=32, out_features=32, bias=True)\n",
       "        (7): ReLU()\n",
       "        (8): Linear(in_features=32, out_features=16, bias=True)\n",
       "      )\n",
       "    )\n",
       "    (gw_decoders): ModuleDict(\n",
       "      (v_latents): GWDecoder(\n",
       "        (0): Linear(in_features=16, out_features=32, bias=True)\n",
       "        (1): ReLU()\n",
       "        (2): Linear(in_features=32, out_features=32, bias=True)\n",
       "        (3): ReLU()\n",
       "        (4): Linear(in_features=32, out_features=32, bias=True)\n",
       "        (5): ReLU()\n",
       "        (6): Linear(in_features=32, out_features=32, bias=True)\n",
       "        (7): ReLU()\n",
       "        (8): Linear(in_features=32, out_features=12, bias=True)\n",
       "      )\n",
       "      (t): GWDecoder(\n",
       "        (0): Linear(in_features=16, out_features=32, bias=True)\n",
       "        (1): ReLU()\n",
       "        (2): Linear(in_features=32, out_features=32, bias=True)\n",
       "        (3): ReLU()\n",
       "        (4): Linear(in_features=32, out_features=32, bias=True)\n",
       "        (5): ReLU()\n",
       "        (6): Linear(in_features=32, out_features=32, bias=True)\n",
       "        (7): ReLU()\n",
       "        (8): Linear(in_features=32, out_features=64, bias=True)\n",
       "      )\n",
       "    )\n",
       "  )\n",
       "  (selection_mod): RandomSelection()\n",
       "  (loss_mod): GWLosses(\n",
       "    (gw_mod): GWModule(\n",
       "      (domain_mods): ModuleDict(\n",
       "        (v_latents): VisualLatentDomainModule(\n",
       "          (visual_module): VisualDomainModule(\n",
       "            (vae): VAE(\n",
       "              (encoder): RAEEncoder(\n",
       "                (layers): Sequential(\n",
       "                  (0): Conv2d(3, 64, kernel_size=(4, 4), stride=(2, 2), padding=(1, 1), bias=False)\n",
       "                  (1): BatchNorm2d(64, eps=1e-05, momentum=0.1, affine=True, track_running_stats=True)\n",
       "                  (2): ReLU()\n",
       "                  (3): Conv2d(64, 128, kernel_size=(4, 4), stride=(2, 2), padding=(1, 1), bias=False)\n",
       "                  (4): BatchNorm2d(128, eps=1e-05, momentum=0.1, affine=True, track_running_stats=True)\n",
       "                  (5): ReLU()\n",
       "                  (6): Conv2d(128, 256, kernel_size=(4, 4), stride=(2, 2), padding=(1, 1), bias=False)\n",
       "                  (7): BatchNorm2d(256, eps=1e-05, momentum=0.1, affine=True, track_running_stats=True)\n",
       "                  (8): ReLU()\n",
       "                  (9): Conv2d(256, 512, kernel_size=(4, 4), stride=(2, 2), padding=(1, 1), bias=False)\n",
       "                  (10): BatchNorm2d(512, eps=1e-05, momentum=0.1, affine=True, track_running_stats=True)\n",
       "                  (11): ReLU()\n",
       "                )\n",
       "                (q_mean): Linear(in_features=2048, out_features=12, bias=True)\n",
       "                (q_logvar): Linear(in_features=2048, out_features=12, bias=True)\n",
       "              )\n",
       "              (decoder): RAEDecoder(\n",
       "                (layers): Sequential(\n",
       "                  (0): ConvTranspose2d(12, 512, kernel_size=(8, 8), stride=(1, 1), bias=False)\n",
       "                  (1): BatchNorm2d(512, eps=1e-05, momentum=0.1, affine=True, track_running_stats=True)\n",
       "                  (2): ReLU()\n",
       "                  (3): ConvTranspose2d(512, 256, kernel_size=(4, 4), stride=(2, 2), padding=(1, 1), bias=False)\n",
       "                  (4): BatchNorm2d(256, eps=1e-05, momentum=0.1, affine=True, track_running_stats=True)\n",
       "                  (5): ReLU()\n",
       "                  (6): ConvTranspose2d(256, 128, kernel_size=(4, 4), stride=(2, 2), padding=(1, 1), bias=False)\n",
       "                  (7): BatchNorm2d(128, eps=1e-05, momentum=0.1, affine=True, track_running_stats=True)\n",
       "                  (8): ReLU()\n",
       "                )\n",
       "                (out_layer): Sequential(\n",
       "                  (0): ZeroPad2d((0, 1, 0, 1))\n",
       "                  (1): Conv2d(128, 3, kernel_size=(4, 4), stride=(1, 1), padding=(1, 1))\n",
       "                  (2): Sigmoid()\n",
       "                )\n",
       "              )\n",
       "            )\n",
       "          )\n",
       "        )\n",
       "        (t): GRUTextDomainModule(\n",
       "          (projector): Sequential(\n",
       "            (0): Linear(in_features=768, out_features=256, bias=True)\n",
       "            (1): ReLU()\n",
       "            (2): Linear(in_features=256, out_features=64, bias=True)\n",
       "            (3): Tanh()\n",
       "          )\n",
       "          (embeddings): Embedding(822, 64)\n",
       "          (decoder): GRU(64, 256, num_layers=2, batch_first=True)\n",
       "          (text_head): Linear(in_features=256, out_features=822, bias=True)\n",
       "        )\n",
       "      )\n",
       "      (gw_encoders): ModuleDict(\n",
       "        (v_latents): GWEncoder(\n",
       "          (0): Linear(in_features=12, out_features=32, bias=True)\n",
       "          (1): ReLU()\n",
       "          (2): Linear(in_features=32, out_features=32, bias=True)\n",
       "          (3): ReLU()\n",
       "          (4): Linear(in_features=32, out_features=32, bias=True)\n",
       "          (5): ReLU()\n",
       "          (6): Linear(in_features=32, out_features=32, bias=True)\n",
       "          (7): ReLU()\n",
       "          (8): Linear(in_features=32, out_features=16, bias=True)\n",
       "        )\n",
       "        (t): GWEncoder(\n",
       "          (0): Linear(in_features=64, out_features=32, bias=True)\n",
       "          (1): ReLU()\n",
       "          (2): Linear(in_features=32, out_features=32, bias=True)\n",
       "          (3): ReLU()\n",
       "          (4): Linear(in_features=32, out_features=32, bias=True)\n",
       "          (5): ReLU()\n",
       "          (6): Linear(in_features=32, out_features=32, bias=True)\n",
       "          (7): ReLU()\n",
       "          (8): Linear(in_features=32, out_features=16, bias=True)\n",
       "        )\n",
       "      )\n",
       "      (gw_decoders): ModuleDict(\n",
       "        (v_latents): GWDecoder(\n",
       "          (0): Linear(in_features=16, out_features=32, bias=True)\n",
       "          (1): ReLU()\n",
       "          (2): Linear(in_features=32, out_features=32, bias=True)\n",
       "          (3): ReLU()\n",
       "          (4): Linear(in_features=32, out_features=32, bias=True)\n",
       "          (5): ReLU()\n",
       "          (6): Linear(in_features=32, out_features=32, bias=True)\n",
       "          (7): ReLU()\n",
       "          (8): Linear(in_features=32, out_features=12, bias=True)\n",
       "        )\n",
       "        (t): GWDecoder(\n",
       "          (0): Linear(in_features=16, out_features=32, bias=True)\n",
       "          (1): ReLU()\n",
       "          (2): Linear(in_features=32, out_features=32, bias=True)\n",
       "          (3): ReLU()\n",
       "          (4): Linear(in_features=32, out_features=32, bias=True)\n",
       "          (5): ReLU()\n",
       "          (6): Linear(in_features=32, out_features=32, bias=True)\n",
       "          (7): ReLU()\n",
       "          (8): Linear(in_features=32, out_features=64, bias=True)\n",
       "        )\n",
       "      )\n",
       "    )\n",
       "    (selection_mod): RandomSelection()\n",
       "    (domain_mods): ModuleDict(\n",
       "      (v_latents): VisualLatentDomainModule(\n",
       "        (visual_module): VisualDomainModule(\n",
       "          (vae): VAE(\n",
       "            (encoder): RAEEncoder(\n",
       "              (layers): Sequential(\n",
       "                (0): Conv2d(3, 64, kernel_size=(4, 4), stride=(2, 2), padding=(1, 1), bias=False)\n",
       "                (1): BatchNorm2d(64, eps=1e-05, momentum=0.1, affine=True, track_running_stats=True)\n",
       "                (2): ReLU()\n",
       "                (3): Conv2d(64, 128, kernel_size=(4, 4), stride=(2, 2), padding=(1, 1), bias=False)\n",
       "                (4): BatchNorm2d(128, eps=1e-05, momentum=0.1, affine=True, track_running_stats=True)\n",
       "                (5): ReLU()\n",
       "                (6): Conv2d(128, 256, kernel_size=(4, 4), stride=(2, 2), padding=(1, 1), bias=False)\n",
       "                (7): BatchNorm2d(256, eps=1e-05, momentum=0.1, affine=True, track_running_stats=True)\n",
       "                (8): ReLU()\n",
       "                (9): Conv2d(256, 512, kernel_size=(4, 4), stride=(2, 2), padding=(1, 1), bias=False)\n",
       "                (10): BatchNorm2d(512, eps=1e-05, momentum=0.1, affine=True, track_running_stats=True)\n",
       "                (11): ReLU()\n",
       "              )\n",
       "              (q_mean): Linear(in_features=2048, out_features=12, bias=True)\n",
       "              (q_logvar): Linear(in_features=2048, out_features=12, bias=True)\n",
       "            )\n",
       "            (decoder): RAEDecoder(\n",
       "              (layers): Sequential(\n",
       "                (0): ConvTranspose2d(12, 512, kernel_size=(8, 8), stride=(1, 1), bias=False)\n",
       "                (1): BatchNorm2d(512, eps=1e-05, momentum=0.1, affine=True, track_running_stats=True)\n",
       "                (2): ReLU()\n",
       "                (3): ConvTranspose2d(512, 256, kernel_size=(4, 4), stride=(2, 2), padding=(1, 1), bias=False)\n",
       "                (4): BatchNorm2d(256, eps=1e-05, momentum=0.1, affine=True, track_running_stats=True)\n",
       "                (5): ReLU()\n",
       "                (6): ConvTranspose2d(256, 128, kernel_size=(4, 4), stride=(2, 2), padding=(1, 1), bias=False)\n",
       "                (7): BatchNorm2d(128, eps=1e-05, momentum=0.1, affine=True, track_running_stats=True)\n",
       "                (8): ReLU()\n",
       "              )\n",
       "              (out_layer): Sequential(\n",
       "                (0): ZeroPad2d((0, 1, 0, 1))\n",
       "                (1): Conv2d(128, 3, kernel_size=(4, 4), stride=(1, 1), padding=(1, 1))\n",
       "                (2): Sigmoid()\n",
       "              )\n",
       "            )\n",
       "          )\n",
       "        )\n",
       "      )\n",
       "      (t): GRUTextDomainModule(\n",
       "        (projector): Sequential(\n",
       "          (0): Linear(in_features=768, out_features=256, bias=True)\n",
       "          (1): ReLU()\n",
       "          (2): Linear(in_features=256, out_features=64, bias=True)\n",
       "          (3): Tanh()\n",
       "        )\n",
       "        (embeddings): Embedding(822, 64)\n",
       "        (decoder): GRU(64, 256, num_layers=2, batch_first=True)\n",
       "        (text_head): Linear(in_features=256, out_features=822, bias=True)\n",
       "      )\n",
       "    )\n",
       "    (contrastive_fn): ContrastiveLoss()\n",
       "  )\n",
       ")"
      ]
     },
     "execution_count": 13,
     "metadata": {},
     "output_type": "execute_result"
    }
   ],
   "source": [
    "device = torch.device(\"cuda\" if torch.cuda.is_available() else \"cpu\")\n",
    "\n",
    "# And now we load the GW checkpoint\n",
    "checkpoint_path = Path(\"./checkpoints\")\n",
    "checkpoint = checkpoint_path / \"gw-t-v_e6sm51xy.ckpt\"\n",
    "\n",
    "global_workspace = GlobalWorkspaceFusion.load_from_checkpoint(\n",
    "    checkpoint,\n",
    "    domain_mods=domain_modules,\n",
    "    gw_encoders=gw_encoders,\n",
    "    gw_decoders=gw_decoders,\n",
    ")\n",
    "global_workspace.to(device)"
   ]
  },
  {
   "cell_type": "markdown",
   "id": "83abaa0e-3179-4b31-b05b-05ef8bb4566d",
   "metadata": {},
   "source": [
    "## Play with the data"
   ]
  },
  {
   "cell_type": "markdown",
   "id": "b63de48b-36f3-4cc6-bf7f-ec8b0c4cf3da",
   "metadata": {},
   "source": [
    "Let's fetch some samples from the dataset."
   ]
  },
  {
   "cell_type": "code",
   "execution_count": 14,
   "id": "0ec5bcca-7c39-4d18-b385-d006cebd20f8",
   "metadata": {},
   "outputs": [
    {
     "name": "stdout",
     "output_type": "stream",
     "text": [
      "dict_keys([frozenset({'t'}), frozenset({'v_latents'}), frozenset({'t', 'v_latents'})])\n"
     ]
    }
   ],
   "source": [
    "# Let's get 32 samples from our dataset\n",
    "train_samples = data_module.get_samples(\"train\", 32)\n",
    "train_samples = batch_to_device(train_samples, device)\n",
    "print(train_samples.keys())"
   ]
  },
  {
   "cell_type": "markdown",
   "id": "3f2f7e6c-15ad-4211-b491-f3257919faf6",
   "metadata": {},
   "source": [
    "This contains three groups: 2 unimodal data groups, and one paired group.\n",
    "It is packaged as a dict, with a `frozenset` containing the domains of the group for the keys.\n",
    "\n",
    "This corresponds to the groups defined in `domain_proportions`.\n",
    "<div class=\"alert alert-info\">\n",
    "NOTE:\n",
    "This is only the case for the train split. The train and test splits only have the paired data group because everything is paired.   \n",
    "</div>\n",
    "\n",
    "For each group, the value contains anothe dict with the samples for each domain of the group."
   ]
  },
  {
   "cell_type": "code",
   "execution_count": 15,
   "id": "880e52bc-627e-4292-958b-632715aa076b",
   "metadata": {},
   "outputs": [
    {
     "name": "stdout",
     "output_type": "stream",
     "text": [
      "{'v_latents': tensor([[ 7.5149e-01,  9.9673e-01,  3.2394e-01, -1.1380e+00,  2.3286e-01,\n",
      "         -3.8094e-01,  3.2004e-01,  1.7450e+00, -1.7007e+00, -1.0245e+00,\n",
      "          6.6172e-01,  6.1820e-01],\n",
      "        [-1.3238e+00,  8.8053e-01, -1.4449e+00, -1.4781e-02, -1.1609e+00,\n",
      "          5.0513e-01, -1.9577e-01, -3.5403e-01,  6.9499e-01,  8.5751e-01,\n",
      "          4.6004e-02,  1.4467e-01],\n",
      "        [-1.0919e-01, -1.2138e+00,  7.1543e-01,  2.8195e-01, -1.4411e-01,\n",
      "         -9.2536e-01, -3.1581e-01,  8.1361e-02, -9.6936e-01, -1.4483e-01,\n",
      "         -5.7480e-01,  5.2652e-01],\n",
      "        [ 2.0345e+00,  1.8824e-01, -1.4036e-01, -2.8413e-01, -1.3107e+00,\n",
      "          3.5451e-01, -7.8922e-01,  8.2810e-01,  3.6558e-01, -2.5473e-01,\n",
      "          1.9909e+00, -7.0220e-01],\n",
      "        [-1.5257e-01, -4.7965e-01,  7.3641e-01,  1.3159e-01, -6.4630e-01,\n",
      "         -1.2705e-01, -1.6917e-02,  1.2653e-01, -6.9555e-01, -2.3179e-01,\n",
      "         -9.9857e-01,  7.5984e-02],\n",
      "        [-2.2703e-01, -1.3479e+00,  1.7454e+00,  7.7455e-01, -1.2244e+00,\n",
      "          1.0271e-01,  3.7335e-01, -4.6883e-02, -2.5471e-01, -9.1682e-01,\n",
      "          1.0851e+00,  1.3870e+00],\n",
      "        [ 6.5418e-01, -2.1748e-01,  1.7153e+00, -4.3694e-01, -9.2041e-01,\n",
      "          5.8600e-03,  5.7315e-01,  9.2535e-01,  1.4192e-01, -8.3547e-01,\n",
      "         -1.7255e+00,  9.5837e-01],\n",
      "        [ 2.4975e+00, -1.8254e-01,  1.0148e+00, -3.2482e-01,  1.7790e-02,\n",
      "          1.2289e-01,  1.2396e+00, -1.6764e+00,  3.2641e-01, -4.7062e-02,\n",
      "          5.0668e-01,  1.3349e+00],\n",
      "        [-2.2760e+00, -7.4009e-01, -8.3180e-01,  1.8655e+00, -6.9896e-01,\n",
      "          5.6688e-01, -5.0081e-01, -6.2666e-01, -1.3130e-01,  1.1190e-01,\n",
      "         -3.0422e-01,  5.6927e-01],\n",
      "        [-6.4150e-02,  1.7199e+00, -1.2921e+00,  1.2962e+00,  8.5929e-01,\n",
      "          4.6322e-01, -7.9265e-01,  4.6958e-02,  1.1566e+00, -4.8535e-01,\n",
      "          2.4848e-01, -6.2408e-01],\n",
      "        [-1.4859e+00,  8.2928e-01,  3.2120e-01,  4.9919e-01, -1.3062e-01,\n",
      "         -1.5375e+00, -3.1731e-01, -4.1415e-01,  1.9876e-02,  4.6641e-01,\n",
      "          3.6349e-01, -4.6083e-01],\n",
      "        [ 9.7235e-02,  1.4392e+00, -5.4477e-01,  1.1138e-01,  5.8960e-01,\n",
      "         -5.2893e-01, -1.0406e+00,  3.4101e-01, -7.3992e-01, -1.3221e+00,\n",
      "          2.2688e-01, -1.7413e+00],\n",
      "        [ 6.4793e-01, -5.6080e-01, -3.4841e-01, -3.0260e-01,  7.3677e-01,\n",
      "         -2.4840e-01,  7.6072e-01, -1.4054e-04,  6.0438e-01,  1.0130e+00,\n",
      "          1.3605e+00,  2.1042e-01],\n",
      "        [ 1.4217e+00,  1.0678e+00,  7.9713e-01, -9.8612e-02,  8.3363e-01,\n",
      "         -2.3559e-02,  9.2361e-01, -2.0747e+00, -6.7652e-01,  1.6328e+00,\n",
      "         -1.1341e+00,  2.7711e-01],\n",
      "        [ 3.5649e-01, -2.1286e-01,  6.5615e-01, -3.9384e-02, -9.0644e-01,\n",
      "         -3.1048e-01,  5.8509e-01, -8.5222e-01, -5.1105e-01,  3.3795e-01,\n",
      "         -5.7570e-01, -4.4622e-01],\n",
      "        [ 2.2222e-01, -3.2269e-01, -4.1015e-01,  4.4005e-01, -1.0468e+00,\n",
      "         -4.6657e-04,  7.7980e-02, -3.6018e-01,  8.0486e-01, -9.9479e-01,\n",
      "         -2.3367e+00, -6.3333e-01],\n",
      "        [ 2.8959e-01,  1.0471e+00,  8.4872e-01,  4.8506e-02,  1.0664e+00,\n",
      "         -4.4844e-01, -1.1594e+00,  5.8210e-03,  1.2831e+00,  1.1490e-01,\n",
      "          3.6239e-01,  6.7694e-01],\n",
      "        [ 1.9452e+00,  9.0640e-01, -1.8875e-02,  1.1485e-01, -9.0730e-01,\n",
      "          8.2835e-02, -1.8396e-01, -4.4808e-01,  1.9750e+00,  2.1949e-01,\n",
      "         -6.2620e-01, -1.2080e+00],\n",
      "        [-5.5420e-02,  4.3206e-01, -5.5702e-02, -3.7955e-01, -1.4334e-01,\n",
      "         -3.2070e-01,  9.0365e-01,  1.0904e+00, -5.3574e-01, -5.4109e-01,\n",
      "         -1.1567e+00, -1.0559e+00],\n",
      "        [-3.6290e-01, -1.4216e+00, -6.0380e-02,  2.9146e-01, -6.2555e-01,\n",
      "          5.9630e-01, -6.2019e-01,  1.2577e-01,  1.4882e+00,  6.4693e-01,\n",
      "         -2.7214e-01,  3.8715e-01],\n",
      "        [ 1.4129e+00,  2.7738e-02,  4.6809e-01, -3.9377e-01,  5.8945e-01,\n",
      "          7.2522e-01,  1.1875e+00, -1.6375e+00,  1.5979e-01,  1.8578e-01,\n",
      "         -7.3979e-02, -1.0260e+00],\n",
      "        [ 8.5786e-01,  2.5064e-01,  4.7797e-01, -1.8928e-01,  6.2477e-01,\n",
      "          4.9579e-01,  1.0144e+00,  8.2712e-01, -1.0750e+00,  4.3863e-01,\n",
      "         -3.2871e-01,  3.9943e-01],\n",
      "        [-4.9438e-01, -1.8509e+00, -1.0283e+00, -2.2053e+00,  6.0934e-01,\n",
      "          7.4746e-01,  2.0915e+00, -3.0346e-01,  1.3985e+00, -3.0894e-02,\n",
      "         -5.6389e-01,  2.6284e-01],\n",
      "        [-5.6357e-01,  1.4334e-01,  1.6678e-01, -1.3361e-01,  2.1964e-01,\n",
      "          1.1184e+00,  7.6147e-01,  8.0294e-01,  4.1213e-01,  1.5107e-02,\n",
      "         -2.2419e-01, -2.6582e-01],\n",
      "        [-1.8751e+00, -1.6674e+00, -2.4254e-01, -4.1529e-01, -7.9650e-01,\n",
      "         -3.4293e-02, -8.3516e-01,  1.2448e+00,  1.2542e+00,  1.2594e-01,\n",
      "          1.0390e+00,  1.0614e+00],\n",
      "        [-1.2540e+00,  6.5625e-01, -2.6079e-01, -1.7187e-01,  2.3010e-01,\n",
      "          3.0327e-03,  1.2236e-01, -1.2772e-01,  6.2808e-01, -3.4195e-01,\n",
      "         -6.2215e-01,  2.5065e+00],\n",
      "        [ 2.8284e-01,  1.7416e+00, -1.3032e+00, -9.6338e-01,  1.9418e-01,\n",
      "         -2.8371e-01, -3.8310e-01, -7.8609e-01,  7.1048e-01, -7.9929e-01,\n",
      "         -3.3628e-01, -8.5792e-01],\n",
      "        [ 1.8940e+00, -1.4207e-01, -1.3991e+00, -1.1465e-01, -1.4430e+00,\n",
      "          2.0860e-01, -6.3613e-01, -1.9433e+00,  7.0866e-01,  7.5651e-01,\n",
      "         -1.7914e+00,  6.4828e-02],\n",
      "        [ 4.2220e-01,  4.0230e-01,  2.1727e+00,  1.4582e+00,  5.1284e-01,\n",
      "         -1.7467e-01, -1.1718e+00,  1.3137e+00,  6.8118e-01, -1.4759e+00,\n",
      "         -6.8339e-01, -2.8623e-02],\n",
      "        [ 3.7336e-01, -5.4511e-01,  8.5042e-01, -6.9981e-02, -1.0381e+00,\n",
      "         -8.2810e-02,  9.6750e-01, -9.9891e-01,  1.3150e+00, -1.0289e+00,\n",
      "         -1.5220e+00, -2.0529e+00],\n",
      "        [ 5.0586e-01,  2.2488e+00, -1.8110e-01, -1.8408e-01,  4.6417e-01,\n",
      "          2.7979e-02,  1.4083e+00, -2.0435e+00,  5.3436e-01,  1.0076e+00,\n",
      "         -2.5737e-01, -1.7496e-01],\n",
      "        [ 5.4767e-01,  1.2637e-01, -1.1378e-01,  3.6199e-02,  3.5084e-01,\n",
      "          2.3857e-02, -1.1845e-01,  4.1202e-01, -8.2820e-01, -7.4199e-02,\n",
      "         -3.9161e-01,  7.0232e-01]], device='cuda:0'), 't': {'bert': tensor([[-0.0309,  0.4805, -0.6248,  ..., -0.6721, -0.0839,  0.2438],\n",
      "        [-0.3542, -0.1985,  0.5443,  ..., -1.8060,  0.5431, -0.9113],\n",
      "        [ 0.8752, -0.1091,  1.7864,  ...,  1.1220,  0.4875, -0.1695],\n",
      "        ...,\n",
      "        [-1.9241,  2.2724, -2.2204,  ...,  1.3815, -2.1490,  0.0232],\n",
      "        [-0.3356, -0.1605,  1.2426,  ..., -0.7230,  0.3664,  1.3595],\n",
      "        [ 1.2000,  0.4436,  0.0663,  ...,  0.9258,  0.4741, -0.1370]],\n",
      "       device='cuda:0'), 'tokens': tensor([[314, 346, 436,  ...,   0,   0,   0],\n",
      "        [428, 265, 261,  ...,   0,   0,   0],\n",
      "        [314, 346, 265,  ...,   0,   0,   0],\n",
      "        ...,\n",
      "        [429, 265, 261,  ...,   0,   0,   0],\n",
      "        [295, 265, 261,  ...,   0,   0,   0],\n",
      "        [ 35, 358, 383,  ...,   0,   0,   0]], device='cuda:0')}}\n"
     ]
    }
   ],
   "source": [
    "train_paired_samples = train_samples[frozenset([\"v_latents\", \"t\"])]\n",
    "print(train_paired_samples)"
   ]
  },
  {
   "cell_type": "markdown",
   "id": "32bcdc20-3900-4291-a233-a7057e017565",
   "metadata": {},
   "source": [
    "### Vision"
   ]
  },
  {
   "cell_type": "markdown",
   "id": "dd450237-cea5-4ff1-831a-e785126a5e7a",
   "metadata": {},
   "source": [
    "This group contains two items: one of each domain. Each item in the domain is paired\n",
    "Let's look at the images first."
   ]
  },
  {
   "cell_type": "code",
   "execution_count": 16,
   "id": "5d2a5fb5-7ec8-4bb1-a55e-3ac41596ee52",
   "metadata": {},
   "outputs": [
    {
     "data": {
      "text/plain": [
       "torch.Size([32, 12])"
      ]
     },
     "execution_count": 16,
     "metadata": {},
     "output_type": "execute_result"
    }
   ],
   "source": [
    "train_paired_samples[\"v_latents\"].size()"
   ]
  },
  {
   "cell_type": "code",
   "execution_count": 17,
   "id": "c3e9c3fe-d665-4de3-8d04-48d5b0c536ea",
   "metadata": {},
   "outputs": [
    {
     "data": {
      "image/png": "[encoded data removed]",
      "text/plain": [
       "<Figure size 640x480 with 1 Axes>"
      ]
     },
     "metadata": {},
     "output_type": "display_data"
    }
   ],
   "source": [
    "# Extract the `v_latents` domain module\n",
    "visual_module = cast(VisualLatentDomainModule, global_workspace.domain_mods[\"v_latents\"])\n",
    "\n",
    "# `train_paired_samples` contains the latent representation, we can use `decode_images`\n",
    "# of the visual module to get back the actual images:\n",
    "train_images = visual_module.decode_images(train_paired_samples[\"v_latents\"])\n",
    "\n",
    "\n",
    "def plot_image_grid(samples: torch.Tensor, nrow=8):\n",
    "    grid = make_grid(samples, nrow=nrow, pad_value=1).permute(1, 2, 0).detach().cpu().numpy()\n",
    "    plt.imshow(grid)\n",
    "    plt.show()\n",
    "\n",
    "\n",
    "plot_image_grid(train_images)"
   ]
  },
  {
   "cell_type": "markdown",
   "id": "e19d88dc-4c04-486c-ba7a-dd133e7a4ab8",
   "metadata": {},
   "source": [
    "### Text"
   ]
  },
  {
   "cell_type": "markdown",
   "id": "1688ccb4-d1d8-4e30-8a52-7d96bc771131",
   "metadata": {},
   "source": [
    "Let's now look at the text domain:"
   ]
  },
  {
   "cell_type": "code",
   "execution_count": 18,
   "id": "f092ed7b-1f31-416c-b2af-2dd41aa92877",
   "metadata": {},
   "outputs": [
    {
     "data": {
      "text/plain": [
       "{'bert': tensor([[-0.0309,  0.4805, -0.6248,  ..., -0.6721, -0.0839,  0.2438],\n",
       "         [-0.3542, -0.1985,  0.5443,  ..., -1.8060,  0.5431, -0.9113],\n",
       "         [ 0.8752, -0.1091,  1.7864,  ...,  1.1220,  0.4875, -0.1695],\n",
       "         ...,\n",
       "         [-1.9241,  2.2724, -2.2204,  ...,  1.3815, -2.1490,  0.0232],\n",
       "         [-0.3356, -0.1605,  1.2426,  ..., -0.7230,  0.3664,  1.3595],\n",
       "         [ 1.2000,  0.4436,  0.0663,  ...,  0.9258,  0.4741, -0.1370]],\n",
       "        device='cuda:0'),\n",
       " 'tokens': tensor([[314, 346, 436,  ...,   0,   0,   0],\n",
       "         [428, 265, 261,  ...,   0,   0,   0],\n",
       "         [314, 346, 265,  ...,   0,   0,   0],\n",
       "         ...,\n",
       "         [429, 265, 261,  ...,   0,   0,   0],\n",
       "         [295, 265, 261,  ...,   0,   0,   0],\n",
       "         [ 35, 358, 383,  ...,   0,   0,   0]], device='cuda:0')}"
      ]
     },
     "execution_count": 18,
     "metadata": {},
     "output_type": "execute_result"
    }
   ],
   "source": [
    "train_paired_samples[\"t\"]"
   ]
  },
  {
   "cell_type": "markdown",
   "id": "c68bf7fb-6748-4086-a903-b677cd95355a",
   "metadata": {},
   "source": [
    "It contains the bert latent representations of the text, and the token sequence. Let's decode the tokens and look at the sentences:"
   ]
  },
  {
   "cell_type": "code",
   "execution_count": 19,
   "id": "5beac4be-ee02-4849-937c-77646922b714",
   "metadata": {},
   "outputs": [
    {
     "name": "stdout",
     "output_type": "stream",
     "text": [
      "1 The image contains a thistle colored tiny arrow-shaped polygon. It is in the middle, slightly left. It is pointing towards the southwest.\n",
      "2 This is a big dark slate blue colored egg, it is located at the upper side right side, it is pointing to the right.\n",
      "3 The image is a tiny forest green colored object located at the bottom left side, and is pointing towards the northeast, and it looks like a trapezoidal shape.\n",
      "4 The image contains a medium sized object in silver pointing towards the south-southeast, and is located slightly lower side, at the center, it looks like a guitar pick.\n",
      "5 It is a tiny dark slate grey object at the bottom, on the left side and is pointing northwest. It looks like an oval shaped structure.\n",
      "6 A small dark goldenrod isosceles triangle, and is at the middle, and is pointing to the west-southwest.\n",
      "7 The image contains a medium dark grey trapezoidal shape and it is pointing towards the top-right corner and it is at the bottom, at the left.\n",
      "8 This is an average sized light pink colored shape pointing to the bottom and it is in the middle. It looks like an isosceles triangle.\n",
      "9 A small dark sea green colored four-sided shape, and it is pointing towards the right top-right, and it is at the top right.\n",
      "10 A kind of dark blue big deformed square shape, pointing to the bottom-left corner, located at the bottom center.\n",
      "11 The image is a trapezoidal shape, and it is medium sized. It is in indigo, and it is located in the middle right, at the very right side, and it is pointing east.\n",
      "12 The image is an average sized shape pointing towards the left side. It is at the lower side, slightly right. It is medium slate blue colored, it looks like a triangle.\n",
      "13 A kind of average sized shape in dark olive green color located slightly top, at the center and it is pointing northwest, it looks like an egg.\n",
      "14 There is a tiny violet object pointing to the bottom, located at the top left side, it looks like a triangle.\n",
      "15 There is an isosceles triangle and is small, it is saddle brown and is pointing south-southwest and is located at the upper side left side.\n",
      "16 The image is a tiny shape in silver color pointing to the top top-right, at the very lower side, on the right side. It looks like a deformed square shape.\n",
      "17 The image contains a large dark slate blue colored shape pointing to the top-right and it is located at the very bottom, at the center and looks like an oval shaped structure.\n",
      "18 A kind of plum medium sized guitar pick and is located at the lower side right side and is pointing towards the northwest.\n",
      "19 A kind of grey isosceles triangle that has round corners, pointing north-northwest, located in the middle left, small.\n",
      "20 A kind of water droplet and is medium sized. It is in olive drab and is located top and is pointing to the top-left corner.\n",
      "21 The image contains a medium sized grey shape at the very upper side left, on the very left, it is pointing towards the bottom-right corner. It looks like a kite.\n",
      "22 There is a bullet, it is tiny, and is in indian red, it is at the middle left, it is pointing to the northeast.\n",
      "23 The image represents a large shape in pale green pointing towards the east. It is located at the very upper side, slightly left. It looks like a kite.\n",
      "24 The image is a big maroon deformed square shape, and is located at the center, at the left side, and is pointing towards the south.\n",
      "25 The image is a khaki oval shaped structure. It is medium. It is located at the top, at the right. It is pointing to the bottom-left corner.\n",
      "26 A medium sized light steel blue triangle, it is pointing to the left side, it is located at the top center.\n",
      "27 The image represents a little object at the bottom middle, pointing towards the west-southwest, in dark blue, it looks like an arrow-shaped polygon.\n",
      "28 The image represents a beige triangle, and is at the very lower side, slightly right, and is pointing to the top, and is tiny.\n",
      "29 A quadrilateral, big and is in silver color, at the bottom, at the left side, pointing to the bottom-left.\n",
      "30 There is a guitar pick, and is little. It is linen, and is at the bottom right, at the very right side, and is pointing towards the top.\n",
      "31 It is a medium orchid colored water droplet and it is pointing south-southeast and it is located at the upper side left and it is small.\n",
      "32 A tiny object located at the center left side. It is pointing northeast. It is dark slate grey. It looks like a triangle.\n"
     ]
    }
   ],
   "source": [
    "def get_text_samples(samples: dict[str, torch.Tensor]) -> list[str]:\n",
    "    \"\"\"\n",
    "    Decode the token sequence into a full sentence.\n",
    "    \"\"\"\n",
    "    return tokenizer.decode_batch(\n",
    "        samples[\"tokens\"].detach().cpu().tolist(),\n",
    "        skip_special_tokens=True,\n",
    "    )\n",
    "\n",
    "\n",
    "train_text_samples = get_text_samples(train_paired_samples[\"t\"])\n",
    "for k, text in enumerate(train_text_samples, 1):\n",
    "    print(k, text.replace(\"<pad>\", \"\"))"
   ]
  },
  {
   "cell_type": "markdown",
   "id": "3982f65c-524d-4933-b05e-9bd98bd1a723",
   "metadata": {},
   "source": [
    "## Text to Image Translations"
   ]
  },
  {
   "cell_type": "markdown",
   "id": "cc1c3e8d-d384-4092-914d-aeeb688d29a5",
   "metadata": {},
   "source": [
    "Now that we are familiar with the data, let's use the global workspace to do some translations.\n",
    "\n",
    "We will first encode the raw data into the unimodal latent representations with `encode_domain`:"
   ]
  },
  {
   "cell_type": "code",
   "execution_count": 20,
   "id": "0baf3400-f305-4d28-919a-a884abd597fd",
   "metadata": {},
   "outputs": [
    {
     "name": "stdout",
     "output_type": "stream",
     "text": [
      "torch.Size([32, 64])\n"
     ]
    }
   ],
   "source": [
    "latent_unimodal_text = global_workspace.encode_domain(train_paired_samples[\"t\"], \"t\")\n",
    "print(latent_unimodal_text.size())"
   ]
  },
  {
   "cell_type": "markdown",
   "id": "87a0b0e2-234d-4d63-b496-0657d7f17f1b",
   "metadata": {},
   "source": [
    "Then, we will encode the unimodal text representation into the GW reprensentation. First we encode the reprensentations"
   ]
  },
  {
   "cell_type": "code",
   "execution_count": 21,
   "id": "52acf10d-3c2f-47d6-97d0-0411812b9659",
   "metadata": {},
   "outputs": [
    {
     "name": "stdout",
     "output_type": "stream",
     "text": [
      "torch.Size([32, 16])\n"
     ]
    }
   ],
   "source": [
    "t_gw_latent = global_workspace.gw_mod.encode({\"t\": latent_unimodal_text})\n",
    "print(t_gw_latent[\"t\"].size())"
   ]
  },
  {
   "cell_type": "markdown",
   "id": "e895c15b-28a7-4f1f-b575-9d8022742d20",
   "metadata": {},
   "source": [
    "Then we fuse the latents together. This requires the coefficients that we use for each domain. As we only have one domain, we put all weights to the text domain with:"
   ]
  },
  {
   "cell_type": "code",
   "execution_count": 22,
   "id": "cbfdf418-7f4a-43cf-8629-e97cba2ee348",
   "metadata": {},
   "outputs": [
    {
     "name": "stdout",
     "output_type": "stream",
     "text": [
      "torch.Size([32, 16])\n"
     ]
    }
   ],
   "source": [
    "t_gw_latent_fused = global_workspace.gw_mod.fuse(t_gw_latent, {\"t\": torch.ones(32).to(device)})\n",
    "print(t_gw_latent_fused.size())"
   ]
  },
  {
   "cell_type": "markdown",
   "id": "0da79075-4028-4eb4-ae5d-c932ee32a4e1",
   "metadata": {},
   "source": [
    "Finally, we will decode the GW representation:"
   ]
  },
  {
   "cell_type": "code",
   "execution_count": 23,
   "id": "4dbce724-f6c6-4b85-9bdd-4b035b40c2bc",
   "metadata": {},
   "outputs": [
    {
     "name": "stdout",
     "output_type": "stream",
     "text": [
      "dict_keys(['v_latents', 't'])\n"
     ]
    }
   ],
   "source": [
    "decoded_latents = global_workspace.gw_mod.decode(t_gw_latent_fused)\n",
    "print(decoded_latents.keys())"
   ]
  },
  {
   "cell_type": "markdown",
   "id": "cb7782ae-1b2c-41e3-8260-58a6b6fd3aae",
   "metadata": {},
   "source": [
    "As you can see, this decodes to both domains. We will look now at the predicted visual latents."
   ]
  },
  {
   "cell_type": "code",
   "execution_count": 24,
   "id": "a44a7a8c-3335-4440-bd75-2613d0bdc81f",
   "metadata": {},
   "outputs": [
    {
     "name": "stdout",
     "output_type": "stream",
     "text": [
      "torch.Size([32, 12])\n"
     ]
    },
    {
     "data": {
      "image/png": "[encoded data removed]",
      "text/plain": [
       "<Figure size 640x480 with 1 Axes>"
      ]
     },
     "metadata": {},
     "output_type": "display_data"
    }
   ],
   "source": [
    "print(decoded_latents[\"v_latents\"].size())\n",
    "decoded_images = visual_module.decode_images(decoded_latents[\"v_latents\"])\n",
    "plot_image_grid(decoded_images)"
   ]
  },
  {
   "cell_type": "markdown",
   "id": "c8f43605-9078-4d0b-be6e-342170a56913",
   "metadata": {},
   "source": [
    "This is the predicted visual translation from text."
   ]
  },
  {
   "cell_type": "markdown",
   "id": "5d21d6b0-1d0d-458a-8a9f-dd72f3ebea7a",
   "metadata": {},
   "source": [
    "## Image to Text translations"
   ]
  },
  {
   "cell_type": "markdown",
   "id": "c9861386-4099-4e13-b869-4fd83d90d796",
   "metadata": {},
   "source": [
    "You could do the same as in the other side, but we will here look at another method. When the previous method is useful to translate starting from domains. This method can take domain groups and will do the translation for each group.\n",
    "\n",
    "We here use `encode_domains` instead of `encode_domain` with all groups:"
   ]
  },
  {
   "cell_type": "code",
   "execution_count": 25,
   "id": "85bea5b7-a747-40f6-a9e2-897c2521e9a4",
   "metadata": {},
   "outputs": [
    {
     "name": "stdout",
     "output_type": "stream",
     "text": [
      "dict_keys([frozenset({'t'}), frozenset({'v_latents'}), frozenset({'t', 'v_latents'})])\n",
      "{'t': tensor([[-0.9933, -1.0000, -1.0000,  ...,  1.0000,  1.0000, -0.5814],\n",
      "        [ 1.0000, -1.0000, -1.0000,  ...,  1.0000,  1.0000, -0.9995],\n",
      "        [ 0.8803, -1.0000, -1.0000,  ...,  1.0000,  1.0000, -0.5440],\n",
      "        ...,\n",
      "        [-1.0000, -1.0000, -1.0000,  ...,  1.0000,  1.0000,  1.0000],\n",
      "        [-0.2907, -1.0000, -1.0000,  ...,  1.0000, -1.0000,  1.0000],\n",
      "        [-0.1505, -1.0000, -1.0000,  ...,  1.0000, -1.0000, -0.4493]],\n",
      "       device='cuda:0', grad_fn=<TanhBackward0>)}\n"
     ]
    }
   ],
   "source": [
    "unimodal_latents = global_workspace.encode_domains(train_samples)\n",
    "print(unimodal_latents.keys())\n",
    "print(unimodal_latents[frozenset([\"t\"])])"
   ]
  },
  {
   "cell_type": "markdown",
   "id": "e9287c3f-9a52-4b1e-a399-2c71e073da69",
   "metadata": {},
   "source": [
    "We see that all domain groups were encoded into latent reprensentations.\n",
    "\n",
    "We now need a selection module (see [https://ruflab.github.io/shimmer/latest/shimmer/modules/selection.html](https://ruflab.github.io/shimmer/latest/shimmer/modules/selection.html)) that defines the policy on how to fuse the different domains in a group.\n",
    "\n",
    "We want to use a selection mechanism that only select the image domain and removes the text domain.\n",
    "\n",
    "All selection mechanism inherit from `SelectionBase` and define the forward which text the unimodal latent representations of the domains, and the pre-fusion encoded representation as parameters:"
   ]
  },
  {
   "cell_type": "code",
   "execution_count": 26,
   "id": "7fa1c82f-ddc4-4a6c-893c-936e7bea6d86",
   "metadata": {},
   "outputs": [],
   "source": [
    "class OnlyVisionSelection(SelectionBase):\n",
    "    def forward(\n",
    "        self, domains: Mapping[str, torch.Tensor], encodings_pre_fusion: Mapping[str, torch.Tensor]\n",
    "    ) -> dict[str, torch.Tensor]:\n",
    "        # If only one domain, we keep it\n",
    "        if len(domains) == 1:\n",
    "            return {domain: torch.ones(32).to(device) for domain in domains}\n",
    "        else:\n",
    "            selection: dict[str, torch.Tensor] = {}\n",
    "            for domain in domains:\n",
    "                # We only keep the visual latents\n",
    "                if domain == \"v_latents\":\n",
    "                    selection[\"v_latents\"] = torch.ones(32).to(device)\n",
    "                else:\n",
    "                    # and set 0 to all other domain\n",
    "                    selection[domain] = torch.zeros(32).to(device)\n",
    "            return selection"
   ]
  },
  {
   "cell_type": "code",
   "execution_count": 27,
   "id": "f7f7db2d-6da8-4fba-adb2-7291951915f0",
   "metadata": {},
   "outputs": [],
   "source": [
    "selection_mod = OnlyVisionSelection()"
   ]
  },
  {
   "cell_type": "code",
   "execution_count": 28,
   "id": "b245799a-e028-4d5b-af3f-54ecd679f871",
   "metadata": {},
   "outputs": [
    {
     "name": "stdout",
     "output_type": "stream",
     "text": [
      "dict_keys([frozenset({'t'}), frozenset({'v_latents'}), frozenset({'t', 'v_latents'})])\n"
     ]
    }
   ],
   "source": [
    "gw_latents = global_workspace.encode_and_fuse(unimodal_latents, selection_mod)\n",
    "print(gw_latents.keys())"
   ]
  },
  {
   "cell_type": "markdown",
   "id": "58363ce7-c0aa-4bce-9fd1-a013bfaef738",
   "metadata": {},
   "source": [
    "Finally we can decode all latents and look at reconstructed domains."
   ]
  },
  {
   "cell_type": "code",
   "execution_count": 29,
   "id": "cf4b3fa6-0ffc-45e4-90ee-14fbfbc963b2",
   "metadata": {},
   "outputs": [
    {
     "name": "stdout",
     "output_type": "stream",
     "text": [
      "dict_keys([frozenset({'t'}), frozenset({'v_latents'}), frozenset({'t', 'v_latents'})])\n",
      "dict_keys([frozenset({'t'}), frozenset({'v_latents'}), frozenset({'t', 'v_latents'})])\n"
     ]
    }
   ],
   "source": [
    "decoded_latents = global_workspace.decode(gw_latents)\n",
    "print(decoded_latents.keys())\n",
    "reconstructed_domains = global_workspace.decode_domains(decoded_latents)\n",
    "print(reconstructed_domains.keys())\n",
    "# We keep the one that are paired. As the selection mechanism only keep the visual domains,\n",
    "# the text reconstructions are translations, and the images are demi-cycles.\n",
    "reconstructed_texts = reconstructed_domains[frozenset([\"t\", \"v_latents\"])][\"t\"]\n",
    "reconstructed_images = reconstructed_domains[frozenset([\"t\", \"v_latents\"])][\"v_latents\"]"
   ]
  },
  {
   "cell_type": "code",
   "execution_count": 30,
   "id": "4e73a2f3-536c-400f-996f-f42e69063086",
   "metadata": {},
   "outputs": [
    {
     "data": {
      "text/plain": [
       "dict_keys(['token_dist', 'tokens'])"
      ]
     },
     "execution_count": 30,
     "metadata": {},
     "output_type": "execute_result"
    }
   ],
   "source": [
    "reconstructed_texts.keys()"
   ]
  },
  {
   "cell_type": "code",
   "execution_count": 31,
   "id": "b566dfd3-f891-4a7e-9786-2459e86de857",
   "metadata": {},
   "outputs": [
    {
     "data": {
      "text/plain": [
       "torch.Size([32, 12])"
      ]
     },
     "execution_count": 31,
     "metadata": {},
     "output_type": "execute_result"
    }
   ],
   "source": [
    "reconstructed_images.size()"
   ]
  },
  {
   "cell_type": "markdown",
   "id": "cc14e8b5-f769-477a-91de-93dafe48e8e7",
   "metadata": {},
   "source": [
    "First let's look at the original images, and their reconstructions (demi-cycle):"
   ]
  },
  {
   "cell_type": "code",
   "execution_count": 32,
   "id": "8cafc661-29a6-444b-94bb-fa22580b3bf7",
   "metadata": {},
   "outputs": [
    {
     "data": {
      "image/png": "[encoded data removed]",
      "text/plain": [
       "<Figure size 640x480 with 1 Axes>"
      ]
     },
     "metadata": {},
     "output_type": "display_data"
    },
    {
     "data": {
      "image/png": "[encoded data removed]",
      "text/plain": [
       "<Figure size 640x480 with 1 Axes>"
      ]
     },
     "metadata": {},
     "output_type": "display_data"
    }
   ],
   "source": [
    "original_images = visual_module.decode_images(train_samples[frozenset([\"v_latents\", \"t\"])][\"v_latents\"])\n",
    "plot_image_grid(original_images)\n",
    "decoded_images = visual_module.decode_images(reconstructed_images)\n",
    "plot_image_grid(decoded_images)"
   ]
  },
  {
   "cell_type": "markdown",
   "id": "4b2f4447-6a03-430b-8240-b3af3074a866",
   "metadata": {},
   "source": [
    "And now let's look at the predicted texts (translations):"
   ]
  },
  {
   "cell_type": "code",
   "execution_count": 33,
   "id": "c311bc41-ce50-4e12-9c16-aa790f903b6b",
   "metadata": {},
   "outputs": [
    {
     "name": "stdout",
     "output_type": "stream",
     "text": [
      "1 The image is a thistle colored tiny kite, and is pointing towards the bottom-left corner, and is located at the center left side.\n",
      "2 The image represents a large shape in dark slate blue color pointing towards the right top-right corner, and is at the upper side right, on the very right side, and looks like a bullet.\n",
      "3 The image contains a tiny forest green colored shape pointing towards the top-right corner, it is located at the lower side left side, it looks like a kite.\n",
      "4 The image contains a medium sized silver colored object pointing towards the bottom-right corner, and it is located slightly bottom, at the center, and looks like a bullet.\n",
      "5 The image represents a tiny dark slate grey colored object pointing towards the top-left corner, and it is located at the bottom, on the left side, and looks like a bullet.\n",
      "6 The image contains a medium sized dark goldenrod colored triangle, and is pointing towards the left bottom-left corner, and is located slightly top, in the center.\n",
      "7 The image represents a medium sized dark grey colored object pointing towards the top-right corner, and it is located at the lower side left side, and looks like a deformed square shape.\n",
      "8 The image contains a medium sized object in wheat color pointing towards the bottom bottom-right corner, it is located slightly upper side, at the center, it looks like a triangle.\n",
      "9 The image is a small dark sea green colored object pointing towards the right top-right corner, it is located at the upper side right, on the very right side, and looks like a kite.\n",
      "10 The image represents a large indigo colored shape pointing to the bottom bottom-left corner, and is at the lower side center, and looks like a kite.\n",
      "11 The image represents a medium sized shape in indigo color pointing towards the right side, and is located in the middle right, on the very right side, and looks like a four-sided shape.\n",
      "12 The image represents a medium slate blue colored medium sized isosceles triangle, and is pointing to the left bottom-left, and is located at the bottom.\n",
      "13 The image contains a medium sized shape in dark slate grey color pointing towards the top-left corner, and is located slightly top, in the center, and looks like a bullet.\n",
      "14 The image contains a tiny shape in plum color pointing to the bottom, and is at the very top, on the left side, and it looks like an isosceles triangle.\n",
      "15 The image is a saddle brown colored isosceles triangle, and it is pointing towards the bottom-left corner, and it is at the upper side left, and it is small.\n",
      "16 The image represents a tiny dark grey colored shape pointing towards the top-right corner, it is at the very bottom, at the right side, and looks like a bullet.\n",
      "17 The image represents a large object in dark slate blue color pointing towards the top-right corner, and it is at the very bottom, in the middle, and looks like a bullet.\n",
      "18 The image contains a plum colored medium sized bullet, it is pointing towards the top-left corner, it is at the very bottom, at the right side.\n",
      "19 The image represents a little slate grey colored shape pointing towards the top top-left corner, it is located in the center left side, and it looks like a guitar pick.\n",
      "20 The image contains an average sized object in olive drab color pointing towards the top-left corner, and it is located at the very upper side, slightly right, and looks like a bullet.\n",
      "21 The image represents a medium sized grey colored shape pointing towards the bottom bottom-right corner, it is at the very upper side left, on the very left side, it looks like a deformed square shape.\n",
      "22 The image represents a tiny shape in indian red color pointing towards the top-right corner, and is located slightly upper side, at the left side, and it looks like a guitar pick.\n",
      "23 The image contains a pale green colored large deformed square shape, and is pointing towards the right top-right corner, and is at the very top, slightly left.\n",
      "24 The image is a large maroon colored object pointing towards the bottom, and is located in the center left side, and looks like a kite.\n",
      "25 The image represents a medium sized khaki colored shape pointing towards the bottom-left corner, and is located at the upper side right side, and looks like a bullet.\n",
      "26 The image represents a medium sized light blue colored isosceles triangle, and is pointing to the left, and is located at the top, slightly right.\n",
      "27 The image represents a dark blue colored little four-sided shape, and it is pointing towards the left bottom-left corner, and it is at the very bottom, slightly right.\n",
      "28 The image represents a tiny shape in linen color pointing towards the top top-left corner, it is at the very bottom, slightly right, and looks like a triangle.\n",
      "29 The image is a silver colored large deformed square shape, it is pointing to the bottom-left corner, it is at the bottom, on the left side.\n",
      "30 The image is a small old lace colored object pointing towards the top, it is at the bottom right, on the very right side, and looks like a bullet.\n",
      "31 The image contains a little medium orchid colored object pointing towards the bottom-right corner, it is at the very top, on the left side, and looks like a guitar pick.\n",
      "32 The image is a tiny dark slate grey colored object pointing towards the top-right corner, and it is located in the center, on the left side, it looks like an isosceles triangle.\n"
     ]
    }
   ],
   "source": [
    "reconstructed_text_strings = get_text_samples(reconstructed_texts)\n",
    "for k, text in enumerate(reconstructed_text_strings, 1):\n",
    "    print(k, text.replace(\"<pad>\", \"\"))"
   ]
  }
 ],
 "metadata": {
  "kernelspec": {
   "display_name": "Python 3 (ipykernel)",
   "language": "python",
   "name": "python3"
  },
  "language_info": {
   "codemirror_mode": {
    "name": "ipython",
    "version": 3
   },
   "file_extension": ".py",
   "mimetype": "text/x-python",
   "name": "python",
   "nbconvert_exporter": "python",
   "pygments_lexer": "ipython3",
   "version": "3.11.4"
  }
 },
 "nbformat": 4,
 "nbformat_minor": 5
}
